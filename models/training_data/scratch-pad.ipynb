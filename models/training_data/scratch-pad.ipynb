{
 "cells": [
  {
   "cell_type": "code",
   "execution_count": 46,
   "metadata": {},
   "outputs": [],
   "source": [
    "import os\n",
    "os.chdir('/home/scur2012/Thesis/master-thesis/experiments/network_training')\n",
    "\n",
    "import numpy as np\n",
    "import zarr\n",
    "import swyft.lightning as sl\n",
    "\n",
    "\n",
    "simulation_store_path = '/scratch-shared/scur2012/training_data/default_limits_2e6/training_data'\n",
    "zarr_store = sl.ZarrStore(f\"{simulation_store_path}\")\n",
    "simulation_results = zarr.convenience.open(simulation_store_path)"
   ]
  },
  {
   "cell_type": "code",
   "execution_count": 47,
   "metadata": {},
   "outputs": [
    {
     "name": "stdout",
     "output_type": "stream",
     "text": [
      "100.0\n"
     ]
    }
   ],
   "source": [
    "# Check Progress\n",
    "print ((1 - zarr_store.sims_required / 2e6)*100)"
   ]
  },
  {
   "cell_type": "code",
   "execution_count": 52,
   "metadata": {},
   "outputs": [
    {
     "data": {
      "text/plain": [
       "95.10445"
      ]
     },
     "execution_count": 52,
     "metadata": {},
     "output_type": "execute_result"
    }
   ],
   "source": [
    "# Check samples are unique\n",
    "len(np.unique(simulation_results['data']['z_total'][:,0]))*100 / 2e6"
   ]
  }
 ],
 "metadata": {
  "kernelspec": {
   "display_name": ".venv",
   "language": "python",
   "name": "python3"
  },
  "language_info": {
   "codemirror_mode": {
    "name": "ipython",
    "version": 3
   },
   "file_extension": ".py",
   "mimetype": "text/x-python",
   "name": "python",
   "nbconvert_exporter": "python",
   "pygments_lexer": "ipython3",
   "version": "3.12.2"
  }
 },
 "nbformat": 4,
 "nbformat_minor": 2
}
